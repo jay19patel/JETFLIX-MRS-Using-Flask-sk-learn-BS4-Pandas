{
 "cells": [
  {
   "cell_type": "markdown",
   "id": "e1ee703b",
   "metadata": {},
   "source": [
    "import ast\n",
    "from nltk.stem.porter import PorterStemmer\n",
    "from sklearn.feature_extraction.text import CountVectorizer\n",
    "from sklearn.metrics.pairwise import cosine_similarity\n"
   ]
  },
  {
   "cell_type": "code",
   "execution_count": 136,
   "id": "f90ca2f4",
   "metadata": {},
   "outputs": [],
   "source": [
    "import pandas as pd\n",
    "import numpy as np\n",
    "\n",
    "df = pd.read_csv('all_csv/Anime.csv')\n",
    "df = df.drop(['video'], axis=1)\n",
    "df = df.replace(to_replace=\"None\", value=np.nan)\n",
    "df = df.dropna()\n"
   ]
  },
  {
   "cell_type": "code",
   "execution_count": 137,
   "id": "54c969ad",
   "metadata": {},
   "outputs": [],
   "source": [
    "df['Released_date'] = df['Released_date'].apply(str)\n",
    "df['My_Tag']= df['title']+df['genres']+df['disciption']+df['Imdb_rating']+df['Released_date']"
   ]
  },
  {
   "cell_type": "code",
   "execution_count": 138,
   "id": "bcae72c6",
   "metadata": {},
   "outputs": [],
   "source": [
    "df['My_Tag'] = df['My_Tag'].replace('[^\\w\\s]', ' ', regex=True)"
   ]
  },
  {
   "cell_type": "code",
   "execution_count": 139,
   "id": "ad2ec420",
   "metadata": {},
   "outputs": [],
   "source": [
    "from nltk.stem.porter import PorterStemmer\n",
    "def mynltk(text):\n",
    "        ps = PorterStemmer()\n",
    "        y = []\n",
    "        for i in text.split():\n",
    "            y.append(ps.stem(i))\n",
    "        return \" \".join(y)"
   ]
  },
  {
   "cell_type": "code",
   "execution_count": 140,
   "id": "3952d922",
   "metadata": {},
   "outputs": [],
   "source": [
    "df['My_Tag'] =df['My_Tag'].apply(mynltk)"
   ]
  },
  {
   "cell_type": "code",
   "execution_count": 141,
   "id": "2146179f",
   "metadata": {},
   "outputs": [],
   "source": [
    "cv = CountVectorizer(max_features=5000,stop_words='english')\n",
    "vector =cv.fit_transform(df['My_Tag']).toarray()\n",
    "sim = cosine_similarity(vector)#sklearn model"
   ]
  },
  {
   "cell_type": "code",
   "execution_count": 142,
   "id": "d53694e8",
   "metadata": {},
   "outputs": [
    {
     "data": {
      "text/plain": [
       "array([[1.        , 0.        , 0.01481847, 0.01321406, 0.02095649,\n",
       "        0.02596308, 0.01504823, 0.02128141],\n",
       "       [0.        , 1.        , 0.        , 0.02152654, 0.17069719,\n",
       "        0.02114775, 0.02451452, 0.31201886],\n",
       "       [0.01481847, 0.        , 1.        , 0.01351105, 0.04285496,\n",
       "        0.03981989, 0.03077287, 0.        ],\n",
       "       [0.01321406, 0.02152654, 0.01351105, 1.        , 0.03821501,\n",
       "        0.5326283 , 0.26069012, 0.03880753],\n",
       "       [0.02095649, 0.17069719, 0.04285496, 0.03821501, 1.        ,\n",
       "        0.03754255, 0.06527912, 0.21541011],\n",
       "       [0.02596308, 0.02114775, 0.03981989, 0.5326283 , 0.03754255,\n",
       "        1.        , 0.22914464, 0.03812464],\n",
       "       [0.01504823, 0.02451452, 0.03077287, 0.26069012, 0.06527912,\n",
       "        0.22914464, 1.        , 0.04419417],\n",
       "       [0.02128141, 0.31201886, 0.        , 0.03880753, 0.21541011,\n",
       "        0.03812464, 0.04419417, 1.        ]])"
      ]
     },
     "execution_count": 142,
     "metadata": {},
     "output_type": "execute_result"
    }
   ],
   "source": [
    "sim"
   ]
  },
  {
   "cell_type": "code",
   "execution_count": 144,
   "id": "2bcd67b9",
   "metadata": {},
   "outputs": [
    {
     "ename": "TypeError",
     "evalue": "Cannot index by location index with a non-integer key",
     "output_type": "error",
     "traceback": [
      "\u001b[1;31m---------------------------------------------------------------------------\u001b[0m",
      "\u001b[1;31mTypeError\u001b[0m                                 Traceback (most recent call last)",
      "Cell \u001b[1;32mIn[144], line 5\u001b[0m\n\u001b[0;32m      3\u001b[0m movie_name \u001b[38;5;241m=\u001b[39m \u001b[38;5;28msorted\u001b[39m(\u001b[38;5;28mlist\u001b[39m(\u001b[38;5;28menumerate\u001b[39m(sim[movie_index])),reverse\u001b[38;5;241m=\u001b[39m\u001b[38;5;28;01mTrue\u001b[39;00m,key\u001b[38;5;241m=\u001b[39m\u001b[38;5;28;01mlambda\u001b[39;00m x:x[\u001b[38;5;241m1\u001b[39m])[\u001b[38;5;241m0\u001b[39m:\u001b[38;5;241m6\u001b[39m]\n\u001b[0;32m      4\u001b[0m \u001b[38;5;28;01mfor\u001b[39;00m i \u001b[38;5;129;01min\u001b[39;00m movie_name:\n\u001b[1;32m----> 5\u001b[0m     top_movies\u001b[38;5;241m.\u001b[39mappend(\u001b[43mdf\u001b[49m\u001b[38;5;241;43m.\u001b[39;49m\u001b[43miloc\u001b[49m\u001b[43m[\u001b[49m\u001b[43mi\u001b[49m\u001b[43m[\u001b[49m\u001b[38;5;241;43m1\u001b[39;49m\u001b[43m]\u001b[49m\u001b[43m]\u001b[49m\u001b[38;5;241m.\u001b[39mtitle)\n\u001b[0;32m      6\u001b[0m \u001b[38;5;28mprint\u001b[39m(top_movies)\n",
      "File \u001b[1;32m~\\AppData\\Local\\Programs\\Python\\Python311\\Lib\\site-packages\\pandas\\core\\indexing.py:1073\u001b[0m, in \u001b[0;36m_LocationIndexer.__getitem__\u001b[1;34m(self, key)\u001b[0m\n\u001b[0;32m   1070\u001b[0m axis \u001b[38;5;241m=\u001b[39m \u001b[38;5;28mself\u001b[39m\u001b[38;5;241m.\u001b[39maxis \u001b[38;5;129;01mor\u001b[39;00m \u001b[38;5;241m0\u001b[39m\n\u001b[0;32m   1072\u001b[0m maybe_callable \u001b[38;5;241m=\u001b[39m com\u001b[38;5;241m.\u001b[39mapply_if_callable(key, \u001b[38;5;28mself\u001b[39m\u001b[38;5;241m.\u001b[39mobj)\n\u001b[1;32m-> 1073\u001b[0m \u001b[38;5;28;01mreturn\u001b[39;00m \u001b[38;5;28;43mself\u001b[39;49m\u001b[38;5;241;43m.\u001b[39;49m\u001b[43m_getitem_axis\u001b[49m\u001b[43m(\u001b[49m\u001b[43mmaybe_callable\u001b[49m\u001b[43m,\u001b[49m\u001b[43m \u001b[49m\u001b[43maxis\u001b[49m\u001b[38;5;241;43m=\u001b[39;49m\u001b[43maxis\u001b[49m\u001b[43m)\u001b[49m\n",
      "File \u001b[1;32m~\\AppData\\Local\\Programs\\Python\\Python311\\Lib\\site-packages\\pandas\\core\\indexing.py:1622\u001b[0m, in \u001b[0;36m_iLocIndexer._getitem_axis\u001b[1;34m(self, key, axis)\u001b[0m\n\u001b[0;32m   1620\u001b[0m key \u001b[38;5;241m=\u001b[39m item_from_zerodim(key)\n\u001b[0;32m   1621\u001b[0m \u001b[38;5;28;01mif\u001b[39;00m \u001b[38;5;129;01mnot\u001b[39;00m is_integer(key):\n\u001b[1;32m-> 1622\u001b[0m     \u001b[38;5;28;01mraise\u001b[39;00m \u001b[38;5;167;01mTypeError\u001b[39;00m(\u001b[38;5;124m\"\u001b[39m\u001b[38;5;124mCannot index by location index with a non-integer key\u001b[39m\u001b[38;5;124m\"\u001b[39m)\n\u001b[0;32m   1624\u001b[0m \u001b[38;5;66;03m# validate the location\u001b[39;00m\n\u001b[0;32m   1625\u001b[0m \u001b[38;5;28mself\u001b[39m\u001b[38;5;241m.\u001b[39m_validate_integer(key, axis)\n",
      "\u001b[1;31mTypeError\u001b[0m: Cannot index by location index with a non-integer key"
     ]
    }
   ],
   "source": [
    "top_movies=[]\n",
    "movie_index = df[df['title'] == \"Jujutsu Kaisen 0\"].index[0] \n",
    "movie_name = sorted(list(enumerate(sim[movie_index])),reverse=True,key=lambda x:x[1])[0:6]\n",
    "for i in movie_name:\n",
    "    top_movies.append(df.iloc[i[1]].title)\n",
    "print(top_movies)"
   ]
  },
  {
   "cell_type": "code",
   "execution_count": null,
   "id": "42fc4806",
   "metadata": {},
   "outputs": [],
   "source": []
  },
  {
   "cell_type": "code",
   "execution_count": null,
   "id": "6b034f83",
   "metadata": {},
   "outputs": [],
   "source": []
  }
 ],
 "metadata": {
  "kernelspec": {
   "display_name": "Python 3 (ipykernel)",
   "language": "python",
   "name": "python3"
  },
  "language_info": {
   "codemirror_mode": {
    "name": "ipython",
    "version": 3
   },
   "file_extension": ".py",
   "mimetype": "text/x-python",
   "name": "python",
   "nbconvert_exporter": "python",
   "pygments_lexer": "ipython3",
   "version": "3.11.2"
  }
 },
 "nbformat": 4,
 "nbformat_minor": 5
}
