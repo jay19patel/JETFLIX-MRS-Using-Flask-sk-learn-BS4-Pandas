{
 "cells": [
  {
   "cell_type": "code",
   "execution_count": 105,
   "id": "83099d44",
   "metadata": {},
   "outputs": [],
   "source": [
    "import pandas as pd\n",
    "import numpy as np"
   ]
  },
  {
   "cell_type": "code",
   "execution_count": 106,
   "id": "0f62023e",
   "metadata": {},
   "outputs": [
    {
     "data": {
      "text/plain": [
       "Index(['Unnamed: 0', 'title', 'disciption', 'Imdb_rating', 'genres',\n",
       "       'Released_date', 'image_url', 'video', 'webpage_url'],\n",
       "      dtype='object')"
      ]
     },
     "execution_count": 106,
     "metadata": {},
     "output_type": "execute_result"
    }
   ],
   "source": [
    "df = pd.read_csv('all_csv/Action and adventure.csv')\n",
    "df.columns"
   ]
  },
  {
   "cell_type": "code",
   "execution_count": 107,
   "id": "42f70d37",
   "metadata": {},
   "outputs": [],
   "source": [
    "df = df.drop(['video'], axis=1)"
   ]
  },
  {
   "cell_type": "code",
   "execution_count": 108,
   "id": "54c14a3d",
   "metadata": {},
   "outputs": [],
   "source": [
    "df = df.replace(to_replace=\"None\", value=np.nan)"
   ]
  },
  {
   "cell_type": "code",
   "execution_count": 109,
   "id": "cb49996a",
   "metadata": {},
   "outputs": [],
   "source": [
    "df[\"Imdb_rating\"] = df[\"Imdb_rating\"].str.replace(\"IMDb \", \"\")"
   ]
  },
  {
   "cell_type": "code",
   "execution_count": 113,
   "id": "296b4a3e",
   "metadata": {},
   "outputs": [],
   "source": [
    "df = df.dropna()"
   ]
  },
  {
   "cell_type": "code",
   "execution_count": 115,
   "id": "f7baa243",
   "metadata": {},
   "outputs": [],
   "source": [
    "sorted_data = df.sort_values(by='Imdb_rating', ascending=False)[0:6]\n",
    "#return sorted_data.values.tolist()"
   ]
  },
  {
   "cell_type": "code",
   "execution_count": 116,
   "id": "0b30b2a8",
   "metadata": {},
   "outputs": [
    {
     "data": {
      "text/html": [
       "<div>\n",
       "<style scoped>\n",
       "    .dataframe tbody tr th:only-of-type {\n",
       "        vertical-align: middle;\n",
       "    }\n",
       "\n",
       "    .dataframe tbody tr th {\n",
       "        vertical-align: top;\n",
       "    }\n",
       "\n",
       "    .dataframe thead th {\n",
       "        text-align: right;\n",
       "    }\n",
       "</style>\n",
       "<table border=\"1\" class=\"dataframe\">\n",
       "  <thead>\n",
       "    <tr style=\"text-align: right;\">\n",
       "      <th></th>\n",
       "      <th>Unnamed: 0</th>\n",
       "      <th>title</th>\n",
       "      <th>disciption</th>\n",
       "      <th>Imdb_rating</th>\n",
       "      <th>genres</th>\n",
       "      <th>Released_date</th>\n",
       "      <th>image_url</th>\n",
       "      <th>webpage_url</th>\n",
       "    </tr>\n",
       "  </thead>\n",
       "  <tbody>\n",
       "    <tr>\n",
       "      <th>8</th>\n",
       "      <td>8</td>\n",
       "      <td>Pushpa: The Rise (Hindi)</td>\n",
       "      <td>Pushpa Raj (Allu Arjun) a coolie, volunteers t...</td>\n",
       "      <td>7.6</td>\n",
       "      <td>International·Adventure·Action·Suspense</td>\n",
       "      <td>2022</td>\n",
       "      <td>https://images-eu.ssl-images-amazon.com/images...</td>\n",
       "      <td>https://www.primevideo.com/detail/0QH32UG7NRSF...</td>\n",
       "    </tr>\n",
       "    <tr>\n",
       "      <th>3</th>\n",
       "      <td>3</td>\n",
       "      <td>Black Adam</td>\n",
       "      <td>The story of the DC superhero comes to the big...</td>\n",
       "      <td>6.3</td>\n",
       "      <td>Science Fiction·Adventure·Action</td>\n",
       "      <td>2022</td>\n",
       "      <td>https://images-eu.ssl-images-amazon.com/images...</td>\n",
       "      <td>https://www.primevideo.com/detail/0KIF0RIKEBJJ...</td>\n",
       "    </tr>\n",
       "    <tr>\n",
       "      <th>6</th>\n",
       "      <td>6</td>\n",
       "      <td>Bakasuran</td>\n",
       "      <td>A man investigates a disturbing ring of young ...</td>\n",
       "      <td>6.3</td>\n",
       "      <td>Action</td>\n",
       "      <td>2023</td>\n",
       "      <td>https://images-eu.ssl-images-amazon.com/images...</td>\n",
       "      <td>https://www.primevideo.com/detail/0K1UTCZG2R3H...</td>\n",
       "    </tr>\n",
       "    <tr>\n",
       "      <th>2</th>\n",
       "      <td>2</td>\n",
       "      <td>Christopher</td>\n",
       "      <td>‘Christopher’ is the story of a vigilante cop ...</td>\n",
       "      <td>6.2</td>\n",
       "      <td>Drama·Suspense·International·Action</td>\n",
       "      <td>2023</td>\n",
       "      <td>https://images-eu.ssl-images-amazon.com/images...</td>\n",
       "      <td>https://www.primevideo.com/detail/0GSDEM0SMSZZ...</td>\n",
       "    </tr>\n",
       "    <tr>\n",
       "      <th>0</th>\n",
       "      <td>0</td>\n",
       "      <td>Varisu (Hindi)</td>\n",
       "      <td>Vijay Rajendran is a happy to go lucky man. Th...</td>\n",
       "      <td>6.1</td>\n",
       "      <td>Drama·Action·International</td>\n",
       "      <td>2023</td>\n",
       "      <td>https://images-eu.ssl-images-amazon.com/images...</td>\n",
       "      <td>https://www.primevideo.com/detail/0GUKC2JE1MEJ...</td>\n",
       "    </tr>\n",
       "    <tr>\n",
       "      <th>4</th>\n",
       "      <td>4</td>\n",
       "      <td>Varisu</td>\n",
       "      <td>Vijay, the prodigal son of business tycoon Raj...</td>\n",
       "      <td>6.1</td>\n",
       "      <td>Drama·International·Action</td>\n",
       "      <td>2023</td>\n",
       "      <td>https://images-eu.ssl-images-amazon.com/images...</td>\n",
       "      <td>https://www.primevideo.com/detail/0R1YWU12P55R...</td>\n",
       "    </tr>\n",
       "  </tbody>\n",
       "</table>\n",
       "</div>"
      ],
      "text/plain": [
       "   Unnamed: 0                     title  \\\n",
       "8           8  Pushpa: The Rise (Hindi)   \n",
       "3           3                Black Adam   \n",
       "6           6                 Bakasuran   \n",
       "2           2               Christopher   \n",
       "0           0            Varisu (Hindi)   \n",
       "4           4                    Varisu   \n",
       "\n",
       "                                          disciption Imdb_rating  \\\n",
       "8  Pushpa Raj (Allu Arjun) a coolie, volunteers t...         7.6   \n",
       "3  The story of the DC superhero comes to the big...         6.3   \n",
       "6  A man investigates a disturbing ring of young ...         6.3   \n",
       "2  ‘Christopher’ is the story of a vigilante cop ...         6.2   \n",
       "0  Vijay Rajendran is a happy to go lucky man. Th...         6.1   \n",
       "4  Vijay, the prodigal son of business tycoon Raj...         6.1   \n",
       "\n",
       "                                    genres  Released_date  \\\n",
       "8  International·Adventure·Action·Suspense           2022   \n",
       "3         Science Fiction·Adventure·Action           2022   \n",
       "6                                   Action           2023   \n",
       "2      Drama·Suspense·International·Action           2023   \n",
       "0               Drama·Action·International           2023   \n",
       "4               Drama·International·Action           2023   \n",
       "\n",
       "                                           image_url  \\\n",
       "8  https://images-eu.ssl-images-amazon.com/images...   \n",
       "3  https://images-eu.ssl-images-amazon.com/images...   \n",
       "6  https://images-eu.ssl-images-amazon.com/images...   \n",
       "2  https://images-eu.ssl-images-amazon.com/images...   \n",
       "0  https://images-eu.ssl-images-amazon.com/images...   \n",
       "4  https://images-eu.ssl-images-amazon.com/images...   \n",
       "\n",
       "                                         webpage_url  \n",
       "8  https://www.primevideo.com/detail/0QH32UG7NRSF...  \n",
       "3  https://www.primevideo.com/detail/0KIF0RIKEBJJ...  \n",
       "6  https://www.primevideo.com/detail/0K1UTCZG2R3H...  \n",
       "2  https://www.primevideo.com/detail/0GSDEM0SMSZZ...  \n",
       "0  https://www.primevideo.com/detail/0GUKC2JE1MEJ...  \n",
       "4  https://www.primevideo.com/detail/0R1YWU12P55R...  "
      ]
     },
     "execution_count": 116,
     "metadata": {},
     "output_type": "execute_result"
    }
   ],
   "source": [
    "sorted_data"
   ]
  },
  {
   "cell_type": "code",
   "execution_count": null,
   "id": "06d25791",
   "metadata": {},
   "outputs": [],
   "source": []
  },
  {
   "cell_type": "code",
   "execution_count": null,
   "id": "deae8d61",
   "metadata": {},
   "outputs": [],
   "source": []
  }
 ],
 "metadata": {
  "kernelspec": {
   "display_name": "Python 3 (ipykernel)",
   "language": "python",
   "name": "python3"
  },
  "language_info": {
   "codemirror_mode": {
    "name": "ipython",
    "version": 3
   },
   "file_extension": ".py",
   "mimetype": "text/x-python",
   "name": "python",
   "nbconvert_exporter": "python",
   "pygments_lexer": "ipython3",
   "version": "3.11.2"
  }
 },
 "nbformat": 4,
 "nbformat_minor": 5
}
