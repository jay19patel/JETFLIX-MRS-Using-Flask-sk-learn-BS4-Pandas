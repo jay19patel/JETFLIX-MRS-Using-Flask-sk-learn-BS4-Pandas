{
 "cells": [
  {
   "cell_type": "code",
   "execution_count": 122,
   "id": "7974c488",
   "metadata": {},
   "outputs": [],
   "source": [
    "import requests\n",
    "from bs4 import BeautifulSoup\n"
   ]
  },
  {
   "cell_type": "code",
   "execution_count": 123,
   "id": "a83ed604",
   "metadata": {},
   "outputs": [],
   "source": [
    "url = \"https://www.primevideo.com/detail/0KIF0RIKEBJJANNU4HDOJ42WN5/ref=atv_dp_amz_c_Iw3Dma_1_1\"\n",
    "page = requests.get(url)\n",
    "soup = BeautifulSoup(page.content, \"html.parser\")"
   ]
  },
  {
   "cell_type": "code",
   "execution_count": 124,
   "id": "a93cec73",
   "metadata": {},
   "outputs": [],
   "source": [
    "title = soup.find('h1',{'data-automation-id':'title'}).text"
   ]
  },
  {
   "cell_type": "code",
   "execution_count": 125,
   "id": "5ae7184b",
   "metadata": {},
   "outputs": [],
   "source": [
    "disciption = soup.find('div',{'class':'_3qsVvm e8yjMf'}).text"
   ]
  },
  {
   "cell_type": "code",
   "execution_count": 126,
   "id": "65842f65",
   "metadata": {},
   "outputs": [],
   "source": [
    "Imdb_rating = soup.find('span',{'data-automation-id':'imdb-rating-badge'}).text"
   ]
  },
  {
   "cell_type": "code",
   "execution_count": 127,
   "id": "26091575",
   "metadata": {},
   "outputs": [],
   "source": [
    "geres = soup.find('div',{'data-testid':'genresMetadata'}).text"
   ]
  },
  {
   "cell_type": "code",
   "execution_count": 128,
   "id": "93cdd342",
   "metadata": {},
   "outputs": [],
   "source": [
    "Released_date = soup.find('span',{'data-automation-id':'release-year-badge'}).text"
   ]
  },
  {
   "cell_type": "code",
   "execution_count": 129,
   "id": "a2f65c86",
   "metadata": {},
   "outputs": [],
   "source": [
    "image = soup.find('div',{'data-automation-id':'hero-background'})"
   ]
  },
  {
   "cell_type": "code",
   "execution_count": 130,
   "id": "479fecde",
   "metadata": {},
   "outputs": [],
   "source": [
    "image_url = image.find('img',{'class':'u2YE+F Ah1hNY'})['src']"
   ]
  },
  {
   "cell_type": "code",
   "execution_count": 146,
   "id": "79673bcb",
   "metadata": {},
   "outputs": [],
   "source": [
    "video = soup.find('div',{'class':'_2Yly53 _2Jh193'})"
   ]
  },
  {
   "cell_type": "code",
   "execution_count": 148,
   "id": "bb3bd5db",
   "metadata": {},
   "outputs": [],
   "source": [
    "movie_page_url = url"
   ]
  },
  {
   "cell_type": "code",
   "execution_count": null,
   "id": "f29e328c",
   "metadata": {},
   "outputs": [],
   "source": []
  },
  {
   "cell_type": "code",
   "execution_count": null,
   "id": "7d46a169",
   "metadata": {},
   "outputs": [],
   "source": []
  },
  {
   "cell_type": "code",
   "execution_count": null,
   "id": "9fac906b",
   "metadata": {},
   "outputs": [],
   "source": []
  }
 ],
 "metadata": {
  "kernelspec": {
   "display_name": "Python 3 (ipykernel)",
   "language": "python",
   "name": "python3"
  },
  "language_info": {
   "codemirror_mode": {
    "name": "ipython",
    "version": 3
   },
   "file_extension": ".py",
   "mimetype": "text/x-python",
   "name": "python",
   "nbconvert_exporter": "python",
   "pygments_lexer": "ipython3",
   "version": "3.11.2"
  }
 },
 "nbformat": 4,
 "nbformat_minor": 5
}
