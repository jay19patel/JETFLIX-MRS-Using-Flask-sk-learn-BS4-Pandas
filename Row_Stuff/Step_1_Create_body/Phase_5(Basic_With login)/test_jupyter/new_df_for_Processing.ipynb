{
 "cells": [
  {
   "cell_type": "code",
   "execution_count": 48,
   "id": "206fa75b",
   "metadata": {},
   "outputs": [],
   "source": [
    "import pandas as pd \n",
    "Movies = pd.read_csv('CSV/MainCSV.csv')"
   ]
  },
  {
   "cell_type": "code",
   "execution_count": 49,
   "id": "eff0da26",
   "metadata": {},
   "outputs": [],
   "source": [
    "Movies= Movies.head(5000)"
   ]
  },
  {
   "cell_type": "code",
   "execution_count": 50,
   "id": "a9df2e73",
   "metadata": {},
   "outputs": [],
   "source": [
    "Movies= Movies.drop(['Unnamed: 0'], axis=1)"
   ]
  },
  {
   "cell_type": "code",
   "execution_count": 51,
   "id": "7b3d547b",
   "metadata": {},
   "outputs": [
    {
     "data": {
      "text/html": [
       "<div>\n",
       "<style scoped>\n",
       "    .dataframe tbody tr th:only-of-type {\n",
       "        vertical-align: middle;\n",
       "    }\n",
       "\n",
       "    .dataframe tbody tr th {\n",
       "        vertical-align: top;\n",
       "    }\n",
       "\n",
       "    .dataframe thead th {\n",
       "        text-align: right;\n",
       "    }\n",
       "</style>\n",
       "<table border=\"1\" class=\"dataframe\">\n",
       "  <thead>\n",
       "    <tr style=\"text-align: right;\">\n",
       "      <th></th>\n",
       "      <th>movie_id</th>\n",
       "      <th>movie_name</th>\n",
       "      <th>my_tag</th>\n",
       "      <th>year</th>\n",
       "    </tr>\n",
       "  </thead>\n",
       "  <tbody>\n",
       "    <tr>\n",
       "      <th>0</th>\n",
       "      <td>tt9114286</td>\n",
       "      <td>Black Panther: Wakanda Forever</td>\n",
       "      <td>action adventur drama the peopl of wakanda fig...</td>\n",
       "      <td>2022</td>\n",
       "    </tr>\n",
       "    <tr>\n",
       "      <th>1</th>\n",
       "      <td>tt1630029</td>\n",
       "      <td>Avatar: The Way of Water</td>\n",
       "      <td>action adventur fantasi jake sulli live with h...</td>\n",
       "      <td>2022</td>\n",
       "    </tr>\n",
       "    <tr>\n",
       "      <th>2</th>\n",
       "      <td>tt5884796</td>\n",
       "      <td>Plane</td>\n",
       "      <td>action thriller a pilot find himself caught in...</td>\n",
       "      <td>2023</td>\n",
       "    </tr>\n",
       "    <tr>\n",
       "      <th>3</th>\n",
       "      <td>tt6710474</td>\n",
       "      <td>Everything Everywhere All at Once</td>\n",
       "      <td>action adventur comedi a middle-ag chines immi...</td>\n",
       "      <td>2022</td>\n",
       "    </tr>\n",
       "    <tr>\n",
       "      <th>4</th>\n",
       "      <td>tt5433140</td>\n",
       "      <td>Fast X</td>\n",
       "      <td>action crime mysteri dom toretto and hi famili...</td>\n",
       "      <td>2023</td>\n",
       "    </tr>\n",
       "  </tbody>\n",
       "</table>\n",
       "</div>"
      ],
      "text/plain": [
       "    movie_id                         movie_name  \\\n",
       "0  tt9114286     Black Panther: Wakanda Forever   \n",
       "1  tt1630029           Avatar: The Way of Water   \n",
       "2  tt5884796                              Plane   \n",
       "3  tt6710474  Everything Everywhere All at Once   \n",
       "4  tt5433140                             Fast X   \n",
       "\n",
       "                                              my_tag  year  \n",
       "0  action adventur drama the peopl of wakanda fig...  2022  \n",
       "1  action adventur fantasi jake sulli live with h...  2022  \n",
       "2  action thriller a pilot find himself caught in...  2023  \n",
       "3  action adventur comedi a middle-ag chines immi...  2022  \n",
       "4  action crime mysteri dom toretto and hi famili...  2023  "
      ]
     },
     "execution_count": 51,
     "metadata": {},
     "output_type": "execute_result"
    }
   ],
   "source": [
    "Movies.head()"
   ]
  },
  {
   "cell_type": "code",
   "execution_count": 52,
   "id": "1dbf1e13",
   "metadata": {},
   "outputs": [],
   "source": [
    "from sklearn.feature_extraction.text import CountVectorizer\n",
    "cv = CountVectorizer(max_features=5000,stop_words='english')"
   ]
  },
  {
   "cell_type": "code",
   "execution_count": 53,
   "id": "10e45a8c",
   "metadata": {},
   "outputs": [],
   "source": [
    "vactor = cv.fit_transform(Movies['my_tag'])\n",
    "import numpy as np"
   ]
  },
  {
   "cell_type": "code",
   "execution_count": 54,
   "id": "bddbe060",
   "metadata": {},
   "outputs": [],
   "source": [
    "my_vactor = vactor.toarray()"
   ]
  },
  {
   "cell_type": "code",
   "execution_count": 56,
   "id": "7b030a12",
   "metadata": {},
   "outputs": [],
   "source": [
    "from sklearn.metrics.pairwise import cosine_similarity"
   ]
  },
  {
   "cell_type": "code",
   "execution_count": 57,
   "id": "b7f7f00e",
   "metadata": {},
   "outputs": [],
   "source": [
    "sim = cosine_similarity(my_vactor)"
   ]
  },
  {
   "cell_type": "code",
   "execution_count": 58,
   "id": "4cdc6848",
   "metadata": {},
   "outputs": [
    {
     "data": {
      "text/plain": [
       "array([1.        , 0.20965697, 0.07412493, ..., 0.05661385, 0.26311741,\n",
       "       0.12104551])"
      ]
     },
     "execution_count": 58,
     "metadata": {},
     "output_type": "execute_result"
    }
   ],
   "source": [
    "sim[0]"
   ]
  },
  {
   "cell_type": "code",
   "execution_count": null,
   "id": "9f1ef2e6",
   "metadata": {},
   "outputs": [],
   "source": []
  }
 ],
 "metadata": {
  "kernelspec": {
   "display_name": "Python 3 (ipykernel)",
   "language": "python",
   "name": "python3"
  },
  "language_info": {
   "codemirror_mode": {
    "name": "ipython",
    "version": 3
   },
   "file_extension": ".py",
   "mimetype": "text/x-python",
   "name": "python",
   "nbconvert_exporter": "python",
   "pygments_lexer": "ipython3",
   "version": "3.11.2"
  }
 },
 "nbformat": 4,
 "nbformat_minor": 5
}
