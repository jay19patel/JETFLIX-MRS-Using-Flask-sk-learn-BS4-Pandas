{
 "cells": [
  {
   "cell_type": "code",
   "execution_count": 82,
   "id": "d733e88e",
   "metadata": {},
   "outputs": [],
   "source": [
    "import pandas as pd "
   ]
  },
  {
   "cell_type": "code",
   "execution_count": null,
   "id": "e8cedeba",
   "metadata": {},
   "outputs": [],
   "source": []
  },
  {
   "cell_type": "code",
   "execution_count": 83,
   "id": "c139e2df",
   "metadata": {},
   "outputs": [],
   "source": [
    "df1 = pd.read_csv('CSV/action.csv')\n",
    "df2 = pd.read_csv('CSV/adventure.csv')\n",
    "df3 = pd.read_csv('CSV/animation.csv')\n",
    "df4 = pd.read_csv('CSV/crime.csv')\n",
    "df5 = pd.read_csv('CSV/family.csv')\n",
    "df6 = pd.read_csv('CSV/mystery.csv')\n",
    "df7 = pd.read_csv('CSV/romance.csv')\n",
    "df8 = pd.read_csv('CSV/horror.csv')\n",
    "df9 = pd.read_csv('CSV/scifi.csv')\n",
    "df10 = pd.read_csv('CSV/war.csv')\n",
    "df11= pd.read_csv('CSV/thriller.csv')\n"
   ]
  },
  {
   "cell_type": "code",
   "execution_count": 84,
   "id": "8500aa77",
   "metadata": {},
   "outputs": [],
   "source": [
    "main_df = pd.concat([df1,df2,df3,df4,df5,df6,df7,df8,df9,df10,df11])"
   ]
  },
  {
   "cell_type": "code",
   "execution_count": 85,
   "id": "1a43ed22",
   "metadata": {},
   "outputs": [],
   "source": [
    "main_df= main_df.drop_duplicates()"
   ]
  },
  {
   "cell_type": "code",
   "execution_count": 86,
   "id": "43e26f0d",
   "metadata": {},
   "outputs": [
    {
     "data": {
      "text/plain": [
       "Index(['movie_id', 'movie_name', 'year', 'certificate', 'runtime', 'genre',\n",
       "       'rating', 'description', 'director', 'director_id', 'star', 'star_id',\n",
       "       'votes', 'gross(in $)'],\n",
       "      dtype='object')"
      ]
     },
     "execution_count": 86,
     "metadata": {},
     "output_type": "execute_result"
    }
   ],
   "source": [
    "main_df.columns\n"
   ]
  },
  {
   "cell_type": "code",
   "execution_count": 87,
   "id": "2fa73b69",
   "metadata": {},
   "outputs": [],
   "source": [
    "#main_df[main_df['movie_id'].isnull()] # check null values in id name and genre"
   ]
  },
  {
   "cell_type": "code",
   "execution_count": 88,
   "id": "33a22b67",
   "metadata": {},
   "outputs": [],
   "source": [
    "main_df['genre']= main_df['genre'].apply(lambda x: x.split())"
   ]
  },
  {
   "cell_type": "code",
   "execution_count": 89,
   "id": "9590f76f",
   "metadata": {},
   "outputs": [],
   "source": [
    "main_df['description']= main_df['description'].apply(lambda x: x.split())"
   ]
  },
  {
   "cell_type": "code",
   "execution_count": 90,
   "id": "c6e4fbfa",
   "metadata": {},
   "outputs": [],
   "source": [
    "main_df['my_tag']= main_df['genre'] + main_df['description']"
   ]
  },
  {
   "cell_type": "code",
   "execution_count": 56,
   "id": "ccd74609",
   "metadata": {},
   "outputs": [],
   "source": [
    "#327574 totsl count"
   ]
  },
  {
   "cell_type": "code",
   "execution_count": 91,
   "id": "a54678c2",
   "metadata": {},
   "outputs": [],
   "source": [
    "#235071  delet dublicates"
   ]
  },
  {
   "cell_type": "code",
   "execution_count": 99,
   "id": "eff85cc2",
   "metadata": {},
   "outputs": [],
   "source": [
    "Movies = main_df[['movie_id','movie_name','my_tag','year']]"
   ]
  },
  {
   "cell_type": "code",
   "execution_count": 100,
   "id": "1ba0fba6",
   "metadata": {},
   "outputs": [
    {
     "data": {
      "text/html": [
       "<div>\n",
       "<style scoped>\n",
       "    .dataframe tbody tr th:only-of-type {\n",
       "        vertical-align: middle;\n",
       "    }\n",
       "\n",
       "    .dataframe tbody tr th {\n",
       "        vertical-align: top;\n",
       "    }\n",
       "\n",
       "    .dataframe thead th {\n",
       "        text-align: right;\n",
       "    }\n",
       "</style>\n",
       "<table border=\"1\" class=\"dataframe\">\n",
       "  <thead>\n",
       "    <tr style=\"text-align: right;\">\n",
       "      <th></th>\n",
       "      <th>movie_id</th>\n",
       "      <th>movie_name</th>\n",
       "      <th>my_tag</th>\n",
       "      <th>year</th>\n",
       "    </tr>\n",
       "  </thead>\n",
       "  <tbody>\n",
       "    <tr>\n",
       "      <th>0</th>\n",
       "      <td>tt9114286</td>\n",
       "      <td>Black Panther: Wakanda Forever</td>\n",
       "      <td>[Action,, Adventure,, Drama, The, people, of, ...</td>\n",
       "      <td>2022</td>\n",
       "    </tr>\n",
       "  </tbody>\n",
       "</table>\n",
       "</div>"
      ],
      "text/plain": [
       "    movie_id                      movie_name  \\\n",
       "0  tt9114286  Black Panther: Wakanda Forever   \n",
       "\n",
       "                                              my_tag  year  \n",
       "0  [Action,, Adventure,, Drama, The, people, of, ...  2022  "
      ]
     },
     "execution_count": 100,
     "metadata": {},
     "output_type": "execute_result"
    }
   ],
   "source": [
    "Movies.head(1)"
   ]
  },
  {
   "cell_type": "code",
   "execution_count": 101,
   "id": "3c37d325",
   "metadata": {},
   "outputs": [
    {
     "name": "stderr",
     "output_type": "stream",
     "text": [
      "C:\\Users\\admin\\AppData\\Local\\Temp\\ipykernel_8512\\2035820889.py:1: SettingWithCopyWarning: \n",
      "A value is trying to be set on a copy of a slice from a DataFrame.\n",
      "Try using .loc[row_indexer,col_indexer] = value instead\n",
      "\n",
      "See the caveats in the documentation: https://pandas.pydata.org/pandas-docs/stable/user_guide/indexing.html#returning-a-view-versus-a-copy\n",
      "  Movies['my_tag'] = Movies['my_tag'].apply(lambda x:[i.replace(\",\",\"\") for i in x]).apply(lambda x:\" \".join(x)).apply(lambda x:x.lower())\n"
     ]
    }
   ],
   "source": [
    "Movies['my_tag'] = Movies['my_tag'].apply(lambda x:[i.replace(\",\",\"\") for i in x]).apply(lambda x:\" \".join(x)).apply(lambda x:x.lower())"
   ]
  },
  {
   "cell_type": "code",
   "execution_count": 107,
   "id": "39305e78",
   "metadata": {},
   "outputs": [],
   "source": [
    "from nltk.stem.porter import PorterStemmer\n",
    "ps = PorterStemmer()\n",
    "\n",
    "def mynltk(text):\n",
    "    y = []\n",
    "    for i in text.split():\n",
    "        y.append(ps.stem(i))\n",
    "    return \" \".join(y)"
   ]
  },
  {
   "cell_type": "code",
   "execution_count": 108,
   "id": "1bba486a",
   "metadata": {},
   "outputs": [
    {
     "name": "stderr",
     "output_type": "stream",
     "text": [
      "C:\\Users\\admin\\AppData\\Local\\Temp\\ipykernel_8512\\502523888.py:1: SettingWithCopyWarning: \n",
      "A value is trying to be set on a copy of a slice from a DataFrame.\n",
      "Try using .loc[row_indexer,col_indexer] = value instead\n",
      "\n",
      "See the caveats in the documentation: https://pandas.pydata.org/pandas-docs/stable/user_guide/indexing.html#returning-a-view-versus-a-copy\n",
      "  Movies['my_tag'] = Movies['my_tag'].apply(mynltk)\n"
     ]
    }
   ],
   "source": [
    "Movies['my_tag'] = Movies['my_tag'].apply(mynltk)"
   ]
  },
  {
   "cell_type": "code",
   "execution_count": 110,
   "id": "2c4bde68",
   "metadata": {},
   "outputs": [],
   "source": [
    "Movies.to_csv('CSV/MainCSV.csv')"
   ]
  },
  {
   "cell_type": "code",
   "execution_count": null,
   "id": "8091bfa3",
   "metadata": {},
   "outputs": [],
   "source": []
  }
 ],
 "metadata": {
  "kernelspec": {
   "display_name": "Python 3 (ipykernel)",
   "language": "python",
   "name": "python3"
  },
  "language_info": {
   "codemirror_mode": {
    "name": "ipython",
    "version": 3
   },
   "file_extension": ".py",
   "mimetype": "text/x-python",
   "name": "python",
   "nbconvert_exporter": "python",
   "pygments_lexer": "ipython3",
   "version": "3.11.2"
  }
 },
 "nbformat": 4,
 "nbformat_minor": 5
}
