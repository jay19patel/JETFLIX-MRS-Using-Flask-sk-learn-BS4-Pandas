{
 "cells": [
  {
   "cell_type": "code",
   "execution_count": 2,
   "id": "07519876",
   "metadata": {},
   "outputs": [],
   "source": [
    "import pandas as pd "
   ]
  },
  {
   "cell_type": "code",
   "execution_count": 12,
   "id": "1e179ee4",
   "metadata": {},
   "outputs": [],
   "source": [
    "df1 = pd.read_csv('CSV/action.csv')\n",
    "df2 = pd.read_csv('CSV/adventure.csv')\n",
    "df3 = pd.read_csv('CSV/animation.csv')\n"
   ]
  },
  {
   "cell_type": "code",
   "execution_count": 18,
   "id": "2577c9f4",
   "metadata": {},
   "outputs": [],
   "source": [
    "main_df = df1+df2+df3"
   ]
  },
  {
   "cell_type": "code",
   "execution_count": 20,
   "id": "af7faf53",
   "metadata": {},
   "outputs": [
    {
     "data": {
      "text/plain": [
       "Index(['movie_id', 'movie_name', 'year', 'certificate', 'runtime', 'genre',\n",
       "       'rating', 'description', 'director', 'director_id', 'star', 'star_id',\n",
       "       'votes', 'gross(in $)'],\n",
       "      dtype='object')"
      ]
     },
     "execution_count": 20,
     "metadata": {},
     "output_type": "execute_result"
    }
   ],
   "source": [
    "main_df.columns"
   ]
  },
  {
   "cell_type": "code",
   "execution_count": 22,
   "id": "6a1ad311",
   "metadata": {},
   "outputs": [
    {
     "data": {
      "text/plain": [
       "0        False\n",
       "1        False\n",
       "2        False\n",
       "3        False\n",
       "4        False\n",
       "         ...  \n",
       "52447    False\n",
       "52448    False\n",
       "52449    False\n",
       "52450    False\n",
       "52451    False\n",
       "Name: genre, Length: 52452, dtype: bool"
      ]
     },
     "execution_count": 22,
     "metadata": {},
     "output_type": "execute_result"
    }
   ],
   "source": [
    "main_df[main_df['genre']==\"animation\"]"
   ]
  },
  {
   "cell_type": "code",
   "execution_count": null,
   "id": "d1cafbda",
   "metadata": {},
   "outputs": [],
   "source": []
  }
 ],
 "metadata": {
  "kernelspec": {
   "display_name": "Python 3 (ipykernel)",
   "language": "python",
   "name": "python3"
  },
  "language_info": {
   "codemirror_mode": {
    "name": "ipython",
    "version": 3
   },
   "file_extension": ".py",
   "mimetype": "text/x-python",
   "name": "python",
   "nbconvert_exporter": "python",
   "pygments_lexer": "ipython3",
   "version": "3.11.2"
  }
 },
 "nbformat": 4,
 "nbformat_minor": 5
}
