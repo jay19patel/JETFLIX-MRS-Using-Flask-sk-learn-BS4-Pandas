{
 "cells": [
  {
   "cell_type": "code",
   "execution_count": 2,
   "id": "e8047631",
   "metadata": {},
   "outputs": [],
   "source": [
    "import pandas as pd\n"
   ]
  },
  {
   "cell_type": "code",
   "execution_count": 9,
   "id": "cabf9c49",
   "metadata": {},
   "outputs": [],
   "source": [
    "df=pd.read_csv('CSV/adventure.csv')\n",
    "df1=pd.read_csv('CSV/action.csv')"
   ]
  },
  {
   "cell_type": "code",
   "execution_count": 11,
   "id": "9978fd0e",
   "metadata": {},
   "outputs": [
    {
     "data": {
      "text/plain": [
       "25664"
      ]
     },
     "execution_count": 11,
     "metadata": {},
     "output_type": "execute_result"
    }
   ],
   "source": [
    "len(df)"
   ]
  },
  {
   "cell_type": "code",
   "execution_count": 12,
   "id": "31dd23fd",
   "metadata": {},
   "outputs": [],
   "source": [
    "df1 = df+df1"
   ]
  },
  {
   "cell_type": "code",
   "execution_count": 13,
   "id": "dffd4711",
   "metadata": {},
   "outputs": [
    {
     "data": {
      "text/plain": [
       "52452"
      ]
     },
     "execution_count": 13,
     "metadata": {},
     "output_type": "execute_result"
    }
   ],
   "source": [
    "len(df1)"
   ]
  },
  {
   "cell_type": "code",
   "execution_count": null,
   "id": "4bb310f4",
   "metadata": {},
   "outputs": [],
   "source": []
  }
 ],
 "metadata": {
  "kernelspec": {
   "display_name": "Python 3 (ipykernel)",
   "language": "python",
   "name": "python3"
  },
  "language_info": {
   "codemirror_mode": {
    "name": "ipython",
    "version": 3
   },
   "file_extension": ".py",
   "mimetype": "text/x-python",
   "name": "python",
   "nbconvert_exporter": "python",
   "pygments_lexer": "ipython3",
   "version": "3.11.2"
  }
 },
 "nbformat": 4,
 "nbformat_minor": 5
}
