{
 "cells": [
  {
   "cell_type": "code",
   "execution_count": 1,
   "id": "4e1563fb",
   "metadata": {},
   "outputs": [],
   "source": [
    "import pandas as pd"
   ]
  },
  {
   "cell_type": "code",
   "execution_count": 2,
   "id": "c4681e8c",
   "metadata": {},
   "outputs": [],
   "source": [
    "df = pd.read_csv('CSV/war.csv')"
   ]
  },
  {
   "cell_type": "code",
   "execution_count": 4,
   "id": "e39a12a5",
   "metadata": {},
   "outputs": [
    {
     "data": {
      "text/html": [
       "<div>\n",
       "<style scoped>\n",
       "    .dataframe tbody tr th:only-of-type {\n",
       "        vertical-align: middle;\n",
       "    }\n",
       "\n",
       "    .dataframe tbody tr th {\n",
       "        vertical-align: top;\n",
       "    }\n",
       "\n",
       "    .dataframe thead th {\n",
       "        text-align: right;\n",
       "    }\n",
       "</style>\n",
       "<table border=\"1\" class=\"dataframe\">\n",
       "  <thead>\n",
       "    <tr style=\"text-align: right;\">\n",
       "      <th></th>\n",
       "      <th>movie_id</th>\n",
       "      <th>movie_name</th>\n",
       "      <th>year</th>\n",
       "      <th>certificate</th>\n",
       "      <th>runtime</th>\n",
       "      <th>genre</th>\n",
       "      <th>rating</th>\n",
       "      <th>description</th>\n",
       "      <th>director</th>\n",
       "      <th>director_id</th>\n",
       "      <th>star</th>\n",
       "      <th>star_id</th>\n",
       "      <th>votes</th>\n",
       "      <th>gross(in $)</th>\n",
       "    </tr>\n",
       "  </thead>\n",
       "  <tbody>\n",
       "    <tr>\n",
       "      <th>0</th>\n",
       "      <td>tt1016150</td>\n",
       "      <td>All Quiet on the Western Front</td>\n",
       "      <td>2022</td>\n",
       "      <td>R</td>\n",
       "      <td>148 min</td>\n",
       "      <td>Action, Drama, War</td>\n",
       "      <td>7.8</td>\n",
       "      <td>A young German soldier's terrifying experience...</td>\n",
       "      <td>Edward Berger</td>\n",
       "      <td>/name/nm0074163/</td>\n",
       "      <td>Felix Kammerer, \\nAlbrecht Schuch, \\nAaron Hil...</td>\n",
       "      <td>/name/nm0436835/,/name/nm3477129/,/name/nm6037...</td>\n",
       "      <td>139754.0</td>\n",
       "      <td>NaN</td>\n",
       "    </tr>\n",
       "  </tbody>\n",
       "</table>\n",
       "</div>"
      ],
      "text/plain": [
       "    movie_id                      movie_name  year certificate  runtime  \\\n",
       "0  tt1016150  All Quiet on the Western Front  2022           R  148 min   \n",
       "\n",
       "                genre  rating  \\\n",
       "0  Action, Drama, War     7.8   \n",
       "\n",
       "                                         description       director  \\\n",
       "0  A young German soldier's terrifying experience...  Edward Berger   \n",
       "\n",
       "        director_id                                               star  \\\n",
       "0  /name/nm0074163/  Felix Kammerer, \\nAlbrecht Schuch, \\nAaron Hil...   \n",
       "\n",
       "                                             star_id     votes  gross(in $)  \n",
       "0  /name/nm0436835/,/name/nm3477129/,/name/nm6037...  139754.0          NaN  "
      ]
     },
     "execution_count": 4,
     "metadata": {},
     "output_type": "execute_result"
    }
   ],
   "source": [
    "df.head(1)\n"
   ]
  },
  {
   "cell_type": "code",
   "execution_count": 15,
   "id": "4dc81e5f",
   "metadata": {},
   "outputs": [],
   "source": [
    "df.columns\n"
   ]
  },
  {
   "cell_type": "code",
   "execution_count": 5,
   "id": "19ffca63",
   "metadata": {},
   "outputs": [],
   "source": [
    "find_genre = \"Action\""
   ]
  },
  {
   "cell_type": "code",
   "execution_count": 19,
   "id": "fe6c3923",
   "metadata": {},
   "outputs": [],
   "source": [
    "df['rating'] = df['rating'].fillna(0)"
   ]
  },
  {
   "cell_type": "code",
   "execution_count": 21,
   "id": "de26dc6c",
   "metadata": {},
   "outputs": [],
   "source": [
    "#df.isnull().sum()"
   ]
  },
  {
   "cell_type": "code",
   "execution_count": 23,
   "id": "01290524",
   "metadata": {},
   "outputs": [],
   "source": [
    "Movies = df[['movie_id', 'movie_name', 'rating', 'genre']]"
   ]
  },
  {
   "cell_type": "code",
   "execution_count": 26,
   "id": "89eb10e2",
   "metadata": {},
   "outputs": [],
   "source": [
    "sorted_data = Movies.sort_values(by='rating', ascending=False)[1:6]"
   ]
  },
  {
   "cell_type": "code",
   "execution_count": 27,
   "id": "b0fd7ff2",
   "metadata": {},
   "outputs": [
    {
     "data": {
      "text/html": [
       "<div>\n",
       "<style scoped>\n",
       "    .dataframe tbody tr th:only-of-type {\n",
       "        vertical-align: middle;\n",
       "    }\n",
       "\n",
       "    .dataframe tbody tr th {\n",
       "        vertical-align: top;\n",
       "    }\n",
       "\n",
       "    .dataframe thead th {\n",
       "        text-align: right;\n",
       "    }\n",
       "</style>\n",
       "<table border=\"1\" class=\"dataframe\">\n",
       "  <thead>\n",
       "    <tr style=\"text-align: right;\">\n",
       "      <th></th>\n",
       "      <th>movie_id</th>\n",
       "      <th>movie_name</th>\n",
       "      <th>rating</th>\n",
       "      <th>genre</th>\n",
       "    </tr>\n",
       "  </thead>\n",
       "  <tbody>\n",
       "    <tr>\n",
       "      <th>2805</th>\n",
       "      <td>tt9795588</td>\n",
       "      <td>The Bed-Sitting Room</td>\n",
       "      <td>9.6</td>\n",
       "      <td>Action, Drama, War</td>\n",
       "    </tr>\n",
       "    <tr>\n",
       "      <th>3949</th>\n",
       "      <td>tt7681554</td>\n",
       "      <td>Yazh</td>\n",
       "      <td>9.5</td>\n",
       "      <td>Romance, Thriller, War</td>\n",
       "    </tr>\n",
       "    <tr>\n",
       "      <th>789</th>\n",
       "      <td>tt16591574</td>\n",
       "      <td>Kobane</td>\n",
       "      <td>9.5</td>\n",
       "      <td>War</td>\n",
       "    </tr>\n",
       "    <tr>\n",
       "      <th>2313</th>\n",
       "      <td>tt0989831</td>\n",
       "      <td>Jibon Theke Neya</td>\n",
       "      <td>9.3</td>\n",
       "      <td>Drama, Family, War</td>\n",
       "    </tr>\n",
       "    <tr>\n",
       "      <th>6893</th>\n",
       "      <td>tt2252574</td>\n",
       "      <td>The Hutou Fortress: Bacteria</td>\n",
       "      <td>9.2</td>\n",
       "      <td>War</td>\n",
       "    </tr>\n",
       "  </tbody>\n",
       "</table>\n",
       "</div>"
      ],
      "text/plain": [
       "        movie_id                    movie_name  rating                   genre\n",
       "2805   tt9795588          The Bed-Sitting Room     9.6      Action, Drama, War\n",
       "3949   tt7681554                          Yazh     9.5  Romance, Thriller, War\n",
       "789   tt16591574                        Kobane     9.5                     War\n",
       "2313   tt0989831              Jibon Theke Neya     9.3      Drama, Family, War\n",
       "6893   tt2252574  The Hutou Fortress: Bacteria     9.2                     War"
      ]
     },
     "execution_count": 27,
     "metadata": {},
     "output_type": "execute_result"
    }
   ],
   "source": [
    "sorted_data"
   ]
  },
  {
   "cell_type": "code",
   "execution_count": null,
   "id": "60e10bb4",
   "metadata": {},
   "outputs": [],
   "source": []
  }
 ],
 "metadata": {
  "kernelspec": {
   "display_name": "Python 3 (ipykernel)",
   "language": "python",
   "name": "python3"
  },
  "language_info": {
   "codemirror_mode": {
    "name": "ipython",
    "version": 3
   },
   "file_extension": ".py",
   "mimetype": "text/x-python",
   "name": "python",
   "nbconvert_exporter": "python",
   "pygments_lexer": "ipython3",
   "version": "3.11.2"
  }
 },
 "nbformat": 4,
 "nbformat_minor": 5
}
