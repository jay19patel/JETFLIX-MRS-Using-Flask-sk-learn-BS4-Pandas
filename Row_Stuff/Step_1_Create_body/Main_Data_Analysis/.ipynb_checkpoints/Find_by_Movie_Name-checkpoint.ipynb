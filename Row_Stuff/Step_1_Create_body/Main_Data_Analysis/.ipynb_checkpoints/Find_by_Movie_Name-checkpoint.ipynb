{
 "cells": [
  {
   "cell_type": "code",
   "execution_count": 11,
   "id": "17d247b1",
   "metadata": {},
   "outputs": [],
   "source": [
    "import pandas as pd"
   ]
  },
  {
   "cell_type": "code",
   "execution_count": 12,
   "id": "9c2b6120",
   "metadata": {},
   "outputs": [],
   "source": [
    "df = pd.read_csv('CSV/war.csv')\n"
   ]
  },
  {
   "cell_type": "code",
   "execution_count": 13,
   "id": "05ec6e28",
   "metadata": {},
   "outputs": [
    {
     "data": {
      "text/html": [
       "<div>\n",
       "<style scoped>\n",
       "    .dataframe tbody tr th:only-of-type {\n",
       "        vertical-align: middle;\n",
       "    }\n",
       "\n",
       "    .dataframe tbody tr th {\n",
       "        vertical-align: top;\n",
       "    }\n",
       "\n",
       "    .dataframe thead th {\n",
       "        text-align: right;\n",
       "    }\n",
       "</style>\n",
       "<table border=\"1\" class=\"dataframe\">\n",
       "  <thead>\n",
       "    <tr style=\"text-align: right;\">\n",
       "      <th></th>\n",
       "      <th>movie_id</th>\n",
       "      <th>movie_name</th>\n",
       "      <th>year</th>\n",
       "      <th>certificate</th>\n",
       "      <th>runtime</th>\n",
       "      <th>genre</th>\n",
       "      <th>rating</th>\n",
       "      <th>description</th>\n",
       "      <th>director</th>\n",
       "      <th>director_id</th>\n",
       "      <th>star</th>\n",
       "      <th>star_id</th>\n",
       "      <th>votes</th>\n",
       "      <th>gross(in $)</th>\n",
       "    </tr>\n",
       "  </thead>\n",
       "  <tbody>\n",
       "    <tr>\n",
       "      <th>0</th>\n",
       "      <td>tt1016150</td>\n",
       "      <td>All Quiet on the Western Front</td>\n",
       "      <td>2022</td>\n",
       "      <td>R</td>\n",
       "      <td>148 min</td>\n",
       "      <td>Action, Drama, War</td>\n",
       "      <td>7.8</td>\n",
       "      <td>A young German soldier's terrifying experience...</td>\n",
       "      <td>Edward Berger</td>\n",
       "      <td>/name/nm0074163/</td>\n",
       "      <td>Felix Kammerer, \\nAlbrecht Schuch, \\nAaron Hil...</td>\n",
       "      <td>/name/nm0436835/,/name/nm3477129/,/name/nm6037...</td>\n",
       "      <td>139754.0</td>\n",
       "      <td>NaN</td>\n",
       "    </tr>\n",
       "  </tbody>\n",
       "</table>\n",
       "</div>"
      ],
      "text/plain": [
       "    movie_id                      movie_name  year certificate  runtime  \\\n",
       "0  tt1016150  All Quiet on the Western Front  2022           R  148 min   \n",
       "\n",
       "                genre  rating  \\\n",
       "0  Action, Drama, War     7.8   \n",
       "\n",
       "                                         description       director  \\\n",
       "0  A young German soldier's terrifying experience...  Edward Berger   \n",
       "\n",
       "        director_id                                               star  \\\n",
       "0  /name/nm0074163/  Felix Kammerer, \\nAlbrecht Schuch, \\nAaron Hil...   \n",
       "\n",
       "                                             star_id     votes  gross(in $)  \n",
       "0  /name/nm0436835/,/name/nm3477129/,/name/nm6037...  139754.0          NaN  "
      ]
     },
     "execution_count": 13,
     "metadata": {},
     "output_type": "execute_result"
    }
   ],
   "source": [
    "df.head(1)\n"
   ]
  },
  {
   "cell_type": "code",
   "execution_count": 14,
   "id": "2be2c1fa",
   "metadata": {},
   "outputs": [],
   "source": [
    "df['genre']= df['genre'].apply(lambda x: x.split())"
   ]
  },
  {
   "cell_type": "code",
   "execution_count": 15,
   "id": "fc1e27ea",
   "metadata": {},
   "outputs": [],
   "source": [
    "df['description']= df['description'].apply(lambda x: x.split())"
   ]
  },
  {
   "cell_type": "code",
   "execution_count": 16,
   "id": "33b2353d",
   "metadata": {},
   "outputs": [],
   "source": [
    "df['my_tag']= df['genre'] + df['description']"
   ]
  },
  {
   "cell_type": "code",
   "execution_count": null,
   "id": "555dc066",
   "metadata": {},
   "outputs": [],
   "source": []
  },
  {
   "cell_type": "code",
   "execution_count": 17,
   "id": "1a34943d",
   "metadata": {},
   "outputs": [],
   "source": [
    "Movies = df[['movie_id','movie_name','my_tag','year']]"
   ]
  },
  {
   "cell_type": "code",
   "execution_count": 18,
   "id": "7288f8fb",
   "metadata": {},
   "outputs": [
    {
     "data": {
      "text/html": [
       "<div>\n",
       "<style scoped>\n",
       "    .dataframe tbody tr th:only-of-type {\n",
       "        vertical-align: middle;\n",
       "    }\n",
       "\n",
       "    .dataframe tbody tr th {\n",
       "        vertical-align: top;\n",
       "    }\n",
       "\n",
       "    .dataframe thead th {\n",
       "        text-align: right;\n",
       "    }\n",
       "</style>\n",
       "<table border=\"1\" class=\"dataframe\">\n",
       "  <thead>\n",
       "    <tr style=\"text-align: right;\">\n",
       "      <th></th>\n",
       "      <th>movie_id</th>\n",
       "      <th>movie_name</th>\n",
       "      <th>my_tag</th>\n",
       "      <th>year</th>\n",
       "    </tr>\n",
       "  </thead>\n",
       "  <tbody>\n",
       "    <tr>\n",
       "      <th>0</th>\n",
       "      <td>tt1016150</td>\n",
       "      <td>All Quiet on the Western Front</td>\n",
       "      <td>[Action,, Drama,, War, A, young, German, soldi...</td>\n",
       "      <td>2022</td>\n",
       "    </tr>\n",
       "  </tbody>\n",
       "</table>\n",
       "</div>"
      ],
      "text/plain": [
       "    movie_id                      movie_name  \\\n",
       "0  tt1016150  All Quiet on the Western Front   \n",
       "\n",
       "                                              my_tag  year  \n",
       "0  [Action,, Drama,, War, A, young, German, soldi...  2022  "
      ]
     },
     "execution_count": 18,
     "metadata": {},
     "output_type": "execute_result"
    }
   ],
   "source": [
    "Movies.head(1)"
   ]
  },
  {
   "cell_type": "code",
   "execution_count": 19,
   "id": "0fc0b6fe",
   "metadata": {},
   "outputs": [
    {
     "name": "stderr",
     "output_type": "stream",
     "text": [
      "C:\\Users\\admin\\AppData\\Local\\Temp\\ipykernel_12592\\2035820889.py:1: SettingWithCopyWarning: \n",
      "A value is trying to be set on a copy of a slice from a DataFrame.\n",
      "Try using .loc[row_indexer,col_indexer] = value instead\n",
      "\n",
      "See the caveats in the documentation: https://pandas.pydata.org/pandas-docs/stable/user_guide/indexing.html#returning-a-view-versus-a-copy\n",
      "  Movies['my_tag'] = Movies['my_tag'].apply(lambda x:[i.replace(\",\",\"\") for i in x]).apply(lambda x:\" \".join(x)).apply(lambda x:x.lower())\n"
     ]
    }
   ],
   "source": [
    "Movies['my_tag'] = Movies['my_tag'].apply(lambda x:[i.replace(\",\",\"\") for i in x]).apply(lambda x:\" \".join(x)).apply(lambda x:x.lower())"
   ]
  },
  {
   "cell_type": "code",
   "execution_count": 20,
   "id": "05b5eadf",
   "metadata": {},
   "outputs": [
    {
     "data": {
      "text/plain": [
       "\"comedy drama war a young german boy in the hitler youth whose hero and imaginary friend is the country's dictator is shocked to discover that his mother is hiding a jewish girl in their home.\""
      ]
     },
     "execution_count": 20,
     "metadata": {},
     "output_type": "execute_result"
    }
   ],
   "source": [
    "Movies['my_tag'][1]"
   ]
  },
  {
   "cell_type": "code",
   "execution_count": 21,
   "id": "93f9a161",
   "metadata": {},
   "outputs": [],
   "source": [
    "from nltk.stem.porter import PorterStemmer\n",
    "ps = PorterStemmer()\n",
    "\n",
    "def mynltk(text):\n",
    "    y = []\n",
    "    for i in text.split():\n",
    "        y.append(ps.stem(i))\n",
    "    return \" \".join(y)"
   ]
  },
  {
   "cell_type": "code",
   "execution_count": 22,
   "id": "4d644f92",
   "metadata": {},
   "outputs": [
    {
     "name": "stderr",
     "output_type": "stream",
     "text": [
      "C:\\Users\\admin\\AppData\\Local\\Temp\\ipykernel_12592\\502523888.py:1: SettingWithCopyWarning: \n",
      "A value is trying to be set on a copy of a slice from a DataFrame.\n",
      "Try using .loc[row_indexer,col_indexer] = value instead\n",
      "\n",
      "See the caveats in the documentation: https://pandas.pydata.org/pandas-docs/stable/user_guide/indexing.html#returning-a-view-versus-a-copy\n",
      "  Movies['my_tag'] = Movies['my_tag'].apply(mynltk)\n"
     ]
    }
   ],
   "source": [
    "Movies['my_tag'] = Movies['my_tag'].apply(mynltk)"
   ]
  },
  {
   "cell_type": "code",
   "execution_count": 23,
   "id": "83f25179",
   "metadata": {},
   "outputs": [
    {
     "data": {
      "text/plain": [
       "\"comedi drama war a young german boy in the hitler youth whose hero and imaginari friend is the country' dictat is shock to discov that hi mother is hide a jewish girl in their home.\""
      ]
     },
     "execution_count": 23,
     "metadata": {},
     "output_type": "execute_result"
    }
   ],
   "source": [
    "Movies['my_tag'][1]"
   ]
  },
  {
   "cell_type": "code",
   "execution_count": 24,
   "id": "2863a34f",
   "metadata": {},
   "outputs": [],
   "source": [
    "from sklearn.feature_extraction.text import CountVectorizer\n",
    "cv = CountVectorizer(max_features=5000,stop_words='english')\n",
    "vactor = cv.fit_transform(Movies['my_tag'])\n",
    "import numpy as np"
   ]
  },
  {
   "cell_type": "code",
   "execution_count": 25,
   "id": "7a5a8b01",
   "metadata": {},
   "outputs": [],
   "source": [
    "my_vactor = vactor.toarray()"
   ]
  },
  {
   "cell_type": "code",
   "execution_count": 26,
   "id": "9a620da0",
   "metadata": {},
   "outputs": [
    {
     "data": {
      "text/plain": [
       "array([0, 0, 0, ..., 0, 0, 0], dtype=int64)"
      ]
     },
     "execution_count": 26,
     "metadata": {},
     "output_type": "execute_result"
    }
   ],
   "source": [
    "my_vactor[1]"
   ]
  },
  {
   "cell_type": "code",
   "execution_count": 27,
   "id": "44eb761a",
   "metadata": {},
   "outputs": [],
   "source": [
    "from sklearn.metrics.pairwise import cosine_similarity"
   ]
  },
  {
   "cell_type": "code",
   "execution_count": 28,
   "id": "4c409798",
   "metadata": {},
   "outputs": [],
   "source": [
    "sim = cosine_similarity(my_vactor)"
   ]
  },
  {
   "cell_type": "code",
   "execution_count": 30,
   "id": "057a0aac",
   "metadata": {},
   "outputs": [
    {
     "data": {
      "text/plain": [
       "array([1.        , 0.28171808, 0.438357  , ..., 0.17213259, 0.11009638,\n",
       "       0.25819889])"
      ]
     },
     "execution_count": 30,
     "metadata": {},
     "output_type": "execute_result"
    }
   ],
   "source": [
    "sim[0]"
   ]
  },
  {
   "cell_type": "code",
   "execution_count": 34,
   "id": "ddb4589d",
   "metadata": {},
   "outputs": [],
   "source": [
    "def find_by_name(name):\n",
    "    movie_index = Movies['movie_id'][Movies[\"movie_name\"] == name].index[0]\n",
    "    distance = sim[movie_index]\n",
    "    movies_list = sorted(list(enumerate(distance)),reverse=True,key = lambda x:x[1])[1:6]\n",
    "    list_of_movies = []\n",
    "    for i in movies_list:\n",
    "         #list_of_movies.append(i[0])\n",
    "         list_of_movies.append(Movies.iloc[i[0]].movie_name)\n",
    "    return list_of_movies"
   ]
  },
  {
   "cell_type": "code",
   "execution_count": 111,
   "id": "4d29cea9",
   "metadata": {
    "scrolled": true
   },
   "outputs": [
    {
     "data": {
      "text/plain": [
       "['The Assassination',\n",
       " 'Mendilim Kekik Kokuyor',\n",
       " 'The Founding of an Army',\n",
       " 'The Action',\n",
       " 'War Dog']"
      ]
     },
     "execution_count": 111,
     "metadata": {},
     "output_type": "execute_result"
    }
   ],
   "source": [
    "find_by_name(\"Red Dog\")"
   ]
  },
  {
   "cell_type": "code",
   "execution_count": 113,
   "id": "e86ac740",
   "metadata": {},
   "outputs": [
    {
     "data": {
      "text/plain": [
       "['Red Dog',\n",
       " 'Cuartelazo',\n",
       " 'Kurukshetra',\n",
       " 'Born Out of the Ashes',\n",
       " 'Alexander I: Into the Woods']"
      ]
     },
     "execution_count": 113,
     "metadata": {},
     "output_type": "execute_result"
    }
   ],
   "source": [
    "find_by_name(\"The Assassination\")"
   ]
  },
  {
   "cell_type": "code",
   "execution_count": null,
   "id": "fdd5ba57",
   "metadata": {},
   "outputs": [],
   "source": []
  },
  {
   "cell_type": "code",
   "execution_count": null,
   "id": "169e7d7c",
   "metadata": {},
   "outputs": [],
   "source": []
  }
 ],
 "metadata": {
  "kernelspec": {
   "display_name": "Python 3 (ipykernel)",
   "language": "python",
   "name": "python3"
  },
  "language_info": {
   "codemirror_mode": {
    "name": "ipython",
    "version": 3
   },
   "file_extension": ".py",
   "mimetype": "text/x-python",
   "name": "python",
   "nbconvert_exporter": "python",
   "pygments_lexer": "ipython3",
   "version": "3.11.2"
  }
 },
 "nbformat": 4,
 "nbformat_minor": 5
}
